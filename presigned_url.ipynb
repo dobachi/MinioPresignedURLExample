{
 "cells": [
  {
   "cell_type": "markdown",
   "id": "e754d327",
   "metadata": {},
   "source": [
    "# インポート"
   ]
  },
  {
   "cell_type": "code",
   "execution_count": 1,
   "id": "b1570ff1",
   "metadata": {},
   "outputs": [],
   "source": [
    "import json"
   ]
  },
  {
   "cell_type": "code",
   "execution_count": 2,
   "id": "9b90c8a8",
   "metadata": {},
   "outputs": [],
   "source": [
    "import boto3"
   ]
  },
  {
   "cell_type": "code",
   "execution_count": 3,
   "id": "fa0dc442",
   "metadata": {},
   "outputs": [],
   "source": [
    "from boto3.session import Session\n",
    "from botocore.config import Config"
   ]
  },
  {
   "cell_type": "markdown",
   "id": "fa11445b",
   "metadata": {},
   "source": [
    "# 各種情報の定義"
   ]
  },
  {
   "cell_type": "code",
   "execution_count": 4,
   "id": "4c7c7d1e",
   "metadata": {},
   "outputs": [],
   "source": [
    "endpoint = 'http://172.24.32.250:9000'"
   ]
  },
  {
   "cell_type": "code",
   "execution_count": 5,
   "id": "4e4b9e1a",
   "metadata": {},
   "outputs": [],
   "source": [
    "my_config = Config(\n",
    "    signature_version = 'v4',\n",
    ")"
   ]
  },
  {
   "cell_type": "code",
   "execution_count": 6,
   "id": "a1ea82cc",
   "metadata": {},
   "outputs": [],
   "source": [
    "policy = {\n",
    "    \"version\": \"2012-10-17\",\n",
    "    \"Statement\": [\n",
    "        {\n",
    "            \"Action\": [\n",
    "                \"s3:GetObject\",\n",
    "                \"s3:PutObject\"\n",
    "            ],\n",
    "            \"Effect\": \"Allow\",\n",
    "            \"Resource\": [\n",
    "                \"arn:aws:s3:::share/\"\n",
    "            ],\n",
    "            \"Sid\": \"Stmt1\"\n",
    "        }\n",
    "    ]\n",
    "}"
   ]
  },
  {
   "cell_type": "markdown",
   "id": "9eae56b8",
   "metadata": {},
   "source": [
    "# クライアント取得、一時アカウントの発行"
   ]
  },
  {
   "cell_type": "markdown",
   "id": "db1fd041",
   "metadata": {},
   "source": [
    "予め作成し、ポリシー設定しておいたアクセスキー（ユーザ名）とシークレットキーを利用する。\n",
    "リージョンを指定しないとエラーになったので、仮で指定。"
   ]
  },
  {
   "cell_type": "code",
   "execution_count": 7,
   "id": "8f64ac4f",
   "metadata": {},
   "outputs": [],
   "source": [
    "client = boto3.client(\"sts\",\n",
    "                      aws_access_key_id = 'bob',\n",
    "                      aws_secret_access_key = 'bob123456',\n",
    "                      region_name='us-west-2',\n",
    "                      config=my_config, endpoint_url=endpoint)"
   ]
  },
  {
   "cell_type": "code",
   "execution_count": 8,
   "id": "59852c1d",
   "metadata": {},
   "outputs": [],
   "source": [
    "response = client.assume_role(\n",
    "    RoleArn='arn:xxx:xxx:xxx:xxxxx',\n",
    "    RoleSessionName='any',\n",
    "    Policy=json.dumps(policy, separators=(',', ':')),\n",
    "    DurationSeconds=900,\n",
    ")"
   ]
  },
  {
   "cell_type": "markdown",
   "id": "9bd6b42d",
   "metadata": {},
   "source": [
    "なお、上記の通りRoleArn、RoleSessionNameは適当な値を入れておく。"
   ]
  },
  {
   "cell_type": "markdown",
   "id": "5d8d13df",
   "metadata": {},
   "source": [
    "署名済みURL発行のため、必要な値を取り出す。"
   ]
  },
  {
   "cell_type": "code",
   "execution_count": 9,
   "id": "5239bbf0",
   "metadata": {},
   "outputs": [],
   "source": [
    "sts = {\n",
    "    'aws_access_key_id': response['Credentials']['AccessKeyId'],\n",
    "    'aws_secret_access_key': response['Credentials']['SecretAccessKey'],\n",
    "    'aws_session_token': response['Credentials']['SessionToken']   \n",
    "}"
   ]
  },
  {
   "cell_type": "markdown",
   "id": "cd15e1a9",
   "metadata": {},
   "source": [
    "一時アカウントの情報を用いて、セッションをインスタンス化"
   ]
  },
  {
   "cell_type": "code",
   "execution_count": 10,
   "id": "4816f624",
   "metadata": {},
   "outputs": [],
   "source": [
    "session = Session(**sts)"
   ]
  },
  {
   "cell_type": "markdown",
   "id": "7a56a6b7",
   "metadata": {},
   "source": [
    "セッションを利用し、s3のクライアントをインスタンス化"
   ]
  },
  {
   "cell_type": "code",
   "execution_count": 11,
   "id": "7c02a206",
   "metadata": {},
   "outputs": [],
   "source": [
    "s3 = session.client(\n",
    "    's3',\n",
    "    config=Config(signature_version='s3v4'),\n",
    "    endpoint_url=endpoint\n",
    ")"
   ]
  },
  {
   "cell_type": "code",
   "execution_count": 12,
   "id": "95de7af2",
   "metadata": {},
   "outputs": [],
   "source": [
    "url = s3.generate_presigned_url(\n",
    "    ClientMethod='get_object',\n",
    "    Params={'Bucket': 'share', 'Key': 'test.txt'},\n",
    "    ExpiresIn=60,\n",
    "    HttpMethod='GET'\n",
    ")"
   ]
  },
  {
   "cell_type": "code",
   "execution_count": 15,
   "id": "2e34e0cb",
   "metadata": {},
   "outputs": [],
   "source": [
    "output = 'pre-signed_url.txt'\n",
    "with open(output, 'w') as f:\n",
    "    f.write(url)"
   ]
  },
  {
   "cell_type": "code",
   "execution_count": null,
   "id": "e096085b",
   "metadata": {},
   "outputs": [],
   "source": []
  }
 ],
 "metadata": {
  "kernelspec": {
   "display_name": "Python 3 (ipykernel)",
   "language": "python",
   "name": "python3"
  },
  "language_info": {
   "codemirror_mode": {
    "name": "ipython",
    "version": 3
   },
   "file_extension": ".py",
   "mimetype": "text/x-python",
   "name": "python",
   "nbconvert_exporter": "python",
   "pygments_lexer": "ipython3",
   "version": "3.7.10"
  }
 },
 "nbformat": 4,
 "nbformat_minor": 5
}
